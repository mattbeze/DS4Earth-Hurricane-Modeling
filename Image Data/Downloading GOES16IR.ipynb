{
 "cells": [
  {
   "cell_type": "code",
   "execution_count": 1,
   "metadata": {},
   "outputs": [],
   "source": [
    "import wget\n",
    "import datetime\n",
    "from urllib.error import HTTPError\n",
    "from PIL import Image"
   ]
  },
  {
   "cell_type": "code",
   "execution_count": null,
   "metadata": {},
   "outputs": [
    {
     "name": "stdout",
     "output_type": "stream",
     "text": [
      "2018-01-06-21 missing\n",
      "2018-01-07-00 missing\n",
      "2018-01-28-21 missing\n",
      "2018-01-29-00 missing\n",
      "2018-04-20-06 missing\n",
      "2018-07-27-00 missing\n",
      "2018-07-31-15 missing\n",
      "2018-08-01-00 missing\n",
      "2018-09-01-00 missing\n",
      "2018-10-03-09 missing\n",
      "2018-10-19-21 missing\n",
      "2018-10-20-12 missing\n",
      "2018-10-23-12 missing\n",
      "2018-11-08-09 missing\n",
      "2018-12-26-18 missing\n",
      "2018-12-31-00 missing\n",
      "2018-12-31-03 missing\n",
      "2018-12-31-06 missing\n",
      "2018-12-31-09 missing\n",
      "2018-12-31-12 missing\n",
      "2018-12-31-15 missing\n",
      "2018-12-31-18 missing\n",
      "2018-12-31-21 missing\n",
      "2019-01-04-00 missing\n",
      "2019-02-21-21 missing\n",
      "2019-02-25-18 missing\n",
      "2019-02-25-21 missing\n",
      "2019-03-02-09 missing\n",
      "2019-03-06-09 missing\n",
      "2019-03-12-18 missing\n",
      "2019-03-29-09 missing\n",
      "2019-03-31-09 missing\n",
      "2019-03-31-21 missing\n",
      "2019-06-27-15 missing\n",
      "2019-06-28-18 missing\n",
      "2019-07-10-15 missing\n",
      "2019-07-26-15 missing\n",
      "2019-07-26-18 missing\n",
      "2019-07-26-21 missing\n"
     ]
    }
   ],
   "source": [
    "baseURL = \"https://www.ncdc.noaa.gov/gibbs/image/GOE-16/IR/\"\n",
    "delta = datetime.timedelta(hours = 3)\n",
    "last = datetime.datetime(2020, 1, 1, 0)\n",
    "frame = datetime.datetime(2018, 1, 1, 0)\n",
    "\n",
    "while frame < last:\n",
    "    filename = frame.strftime(\"%Y-%m-%d-%H\")\n",
    "    try:\n",
    "        wget.download(baseURL + filename, \"pics/%s.jpg\" % filename)\n",
    "        with Image.open(\"pics/\" + filename + '.jpg') as im:\n",
    "            im.crop((0,0,im.size[0],int(im.size[1]/2))).save('pics/' + filename + '.jpg')\n",
    "    except HTTPError:\n",
    "        print(filename + \" missing\")\n",
    "    frame += delta"
   ]
  },
  {
   "cell_type": "markdown",
   "metadata": {},
   "source": [
    "Now to zip the files. Only the zip file will be on GitHub."
   ]
  },
  {
   "cell_type": "code",
   "execution_count": 1,
   "metadata": {},
   "outputs": [
    {
     "data": {
      "text/plain": [
       "'/home/jovyan/DS4Earth-Hurricane-Modeling/Image Data/pics.zip'"
      ]
     },
     "execution_count": 1,
     "metadata": {},
     "output_type": "execute_result"
    }
   ],
   "source": [
    "import shutil\n",
    "shutil.make_archive('pics', 'zip', 'pics/')"
   ]
  }
 ],
 "metadata": {
  "kernelspec": {
   "display_name": "Python 3",
   "language": "python",
   "name": "python3"
  },
  "language_info": {
   "codemirror_mode": {
    "name": "ipython",
    "version": 3
   },
   "file_extension": ".py",
   "mimetype": "text/x-python",
   "name": "python",
   "nbconvert_exporter": "python",
   "pygments_lexer": "ipython3",
   "version": "3.7.3"
  }
 },
 "nbformat": 4,
 "nbformat_minor": 4
}
